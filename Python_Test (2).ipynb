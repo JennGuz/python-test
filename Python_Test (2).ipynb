{
 "cells": [
  {
   "cell_type": "markdown",
   "metadata": {},
   "source": [
    "### This test requires only Python. **No libraries allowed**"
   ]
  },
  {
   "cell_type": "markdown",
   "metadata": {},
   "source": [
    "#### **Lists**"
   ]
  },
  {
   "cell_type": "code",
   "execution_count": 69,
   "metadata": {},
   "outputs": [
    {
     "data": {
      "text/plain": [
       "[1, 2, 3, 5, 7]"
      ]
     },
     "execution_count": 69,
     "metadata": {},
     "output_type": "execute_result"
    }
   ],
   "source": [
    "# 1. With a list mylist=[1,5,2,7,3], sort it in ascending order\n",
    "mylist = [1,5,2,7,3]\n",
    "mylist.sort()\n",
    "mylist"
   ]
  },
  {
   "cell_type": "code",
   "execution_count": 70,
   "metadata": {},
   "outputs": [
    {
     "data": {
      "text/plain": [
       "[1, 5, 4, 2, 7, 3]"
      ]
     },
     "execution_count": 70,
     "metadata": {},
     "output_type": "execute_result"
    }
   ],
   "source": [
    "# 2. With a list mylist=[1,5,2,7,3], insert the number 4 between 5 and 2\n",
    "mylist=[1,5,2,7,3]\n",
    "mylist.insert(2,4)\n",
    "mylist\n"
   ]
  },
  {
   "cell_type": "code",
   "execution_count": 71,
   "metadata": {},
   "outputs": [
    {
     "data": {
      "text/plain": [
       "[1, 5, 2, 3]"
      ]
     },
     "execution_count": 71,
     "metadata": {},
     "output_type": "execute_result"
    }
   ],
   "source": [
    "# 3. With a list mylist=[1,5,2,7,3], delete the number 7\n",
    "mylist=[1,5,2,7,3]\n",
    "mylist.remove(7)\n",
    "mylist"
   ]
  },
  {
   "cell_type": "code",
   "execution_count": 72,
   "metadata": {},
   "outputs": [
    {
     "data": {
      "text/plain": [
       "[1, 5, 2, 7]"
      ]
     },
     "execution_count": 72,
     "metadata": {},
     "output_type": "execute_result"
    }
   ],
   "source": [
    "# 4. With a list mylist=[1,5,2,7,3], remove the last element\n",
    "mylist=[1,5,2,7,3]\n",
    "mylist.pop()\n",
    "mylist"
   ]
  },
  {
   "cell_type": "code",
   "execution_count": 73,
   "metadata": {},
   "outputs": [
    {
     "name": "stdout",
     "output_type": "stream",
     "text": [
      "Element: 1, index: 0\n",
      "Element: 5, index: 1\n",
      "Element: 2, index: 2\n",
      "Element: 7, index: 3\n",
      "Element: 3, index: 4\n"
     ]
    }
   ],
   "source": [
    "# 5. Print out all the elements and indexes of mylist=[1,5,2,7,3]\n",
    "mylist=[1,5,2,7,3]\n",
    "for i, element in enumerate(mylist):\n",
    "    print(f'Element: {element}, index: {i}') "
   ]
  },
  {
   "cell_type": "code",
   "execution_count": 74,
   "metadata": {},
   "outputs": [
    {
     "data": {
      "text/plain": [
       "[1, 2, 3]"
      ]
     },
     "execution_count": 74,
     "metadata": {},
     "output_type": "execute_result"
    }
   ],
   "source": [
    "# 6. Slice the list mylist=[1,5,2,7,3] to show values only in even indexes\n",
    "mylist=[1,5,2,7,3]\n",
    "mylist[::2]"
   ]
  },
  {
   "cell_type": "code",
   "execution_count": 75,
   "metadata": {},
   "outputs": [
    {
     "data": {
      "text/plain": [
       "[3, 7, 2, 5, 1]"
      ]
     },
     "execution_count": 75,
     "metadata": {},
     "output_type": "execute_result"
    }
   ],
   "source": [
    "# 7. Slice the list mylist=[1,5,2,7,3] to reverse the list\n",
    "mylist=[1,5,2,7,3]\n",
    "mylist[::-1]"
   ]
  },
  {
   "cell_type": "code",
   "execution_count": 76,
   "metadata": {},
   "outputs": [
    {
     "data": {
      "text/plain": [
       "[5, 7]"
      ]
     },
     "execution_count": 76,
     "metadata": {},
     "output_type": "execute_result"
    }
   ],
   "source": [
    "# 8. Slice the list mylist=[1,5,2,7,3] to show values only in odd indexes\n",
    "mylist=[1,5,2,7,3]\n",
    "mylist[1::2]"
   ]
  },
  {
   "cell_type": "code",
   "execution_count": 77,
   "metadata": {},
   "outputs": [
    {
     "data": {
      "text/plain": [
       "[1, 2, 5, 7]"
      ]
     },
     "execution_count": 77,
     "metadata": {},
     "output_type": "execute_result"
    }
   ],
   "source": [
    "# 9. For the list mylist=[2,1,5,2,7,5,2] extract the unique values as a list\n",
    "mylist=[2,1,5,2,7,5,2]\n",
    "list(set(mylist))"
   ]
  },
  {
   "cell_type": "code",
   "execution_count": 78,
   "metadata": {},
   "outputs": [
    {
     "data": {
      "text/plain": [
       "3"
      ]
     },
     "execution_count": 78,
     "metadata": {},
     "output_type": "execute_result"
    }
   ],
   "source": [
    "# 10. For the list mylist=[[2,3],[1,2]] extract the second element\n",
    "# of the first list\n",
    "mylist=[[2,3],[1,2]]\n",
    "mylist[0][1]"
   ]
  },
  {
   "cell_type": "code",
   "execution_count": 79,
   "metadata": {},
   "outputs": [
    {
     "data": {
      "text/plain": [
       "[[1, 2], [2, 3]]"
      ]
     },
     "execution_count": 79,
     "metadata": {},
     "output_type": "execute_result"
    }
   ],
   "source": [
    "# 11. For the list mylist=[[2,3],[1,2]] reverse the list by row\n",
    "mylist=[[2,3],[1,2]]\n",
    "mylist[::-1]"
   ]
  },
  {
   "cell_type": "markdown",
   "metadata": {},
   "source": [
    "#### **Dictionaries**"
   ]
  },
  {
   "cell_type": "code",
   "execution_count": 80,
   "metadata": {},
   "outputs": [
    {
     "name": "stdout",
     "output_type": "stream",
     "text": [
      "{'a': 2, 'b': 5, 'c': 6}\n"
     ]
    }
   ],
   "source": [
    "# 1. For this list of tuples mylist = [('a',2),('b',5),('c',6)] \n",
    "# create a dictionary my dict and show it\n",
    "my_list = [('a',2),('b',5),('c',6)] \n",
    "my_dict = dict(my_list)\n",
    "print(my_dict)"
   ]
  },
  {
   "cell_type": "code",
   "execution_count": 81,
   "metadata": {},
   "outputs": [
    {
     "name": "stdout",
     "output_type": "stream",
     "text": [
      "5\n"
     ]
    }
   ],
   "source": [
    "# 2. Fot the previous list, show the value for key 'b'\n",
    "my_list = [('a',2),('b',5),('c',6)] \n",
    "my_dict = dict(my_list)\n",
    "print(my_dict['b'])"
   ]
  },
  {
   "cell_type": "code",
   "execution_count": 82,
   "metadata": {},
   "outputs": [
    {
     "name": "stdout",
     "output_type": "stream",
     "text": [
      "6\n"
     ]
    }
   ],
   "source": [
    "# 3. For the previus list, show the value for key 'f'\n",
    "my_list = [('a',2),('b',5),('c',6)] \n",
    "my_dict = dict(my_list)\n",
    "print(my_dict['c'])"
   ]
  },
  {
   "cell_type": "code",
   "execution_count": 83,
   "metadata": {},
   "outputs": [
    {
     "name": "stdout",
     "output_type": "stream",
     "text": [
      "{'a': 2, 'b': 5, 'c': 6}\n"
     ]
    }
   ],
   "source": [
    "# 4. For the previous dictionary, print all the keys and values\n",
    "my_list = [('a',2),('b',5),('c',6)] \n",
    "my_dict = dict(my_list)\n",
    "print(my_dict)"
   ]
  },
  {
   "cell_type": "code",
   "execution_count": 84,
   "metadata": {},
   "outputs": [
    {
     "data": {
      "text/plain": [
       "3"
      ]
     },
     "execution_count": 84,
     "metadata": {},
     "output_type": "execute_result"
    }
   ],
   "source": [
    "# 5. Print the quantity of keys of previous dictionary\n",
    "my_list = [('a',2),('b',5),('c',6)] \n",
    "my_dict = dict(my_list)\n",
    "len(my_dict.keys())"
   ]
  },
  {
   "cell_type": "code",
   "execution_count": 85,
   "metadata": {},
   "outputs": [
    {
     "name": "stdout",
     "output_type": "stream",
     "text": [
      "{'a': 2, 'b': 5, 'c': 6, 'd': 0}\n"
     ]
    }
   ],
   "source": [
    "# 6. Add a new key 'd' and its value 0 to the previous dictionary. Print it\n",
    "my_list = [('a',2),('b',5),('c',6)] \n",
    "my_dict = dict(my_list)\n",
    "my_dict['d'] = 0\n",
    "print(my_dict)"
   ]
  },
  {
   "cell_type": "code",
   "execution_count": 86,
   "metadata": {},
   "outputs": [
    {
     "name": "stdout",
     "output_type": "stream",
     "text": [
      "{'a': 2, 'b': 5, 'c': 6}\n"
     ]
    }
   ],
   "source": [
    "# 7. Sort the previous dictionary by value\n",
    "my_list.sort()\n",
    "my_dict = dict(my_list)\n",
    "print(my_dict)"
   ]
  },
  {
   "cell_type": "code",
   "execution_count": 87,
   "metadata": {},
   "outputs": [
    {
     "name": "stdout",
     "output_type": "stream",
     "text": [
      "{'c': 6, 'b': 5, 'a': 2}\n"
     ]
    }
   ],
   "source": [
    "# 8. Sort the previous dictionary by key, in descending order\n",
    "my_list.sort(reverse=True)\n",
    "my_dict = dict(my_list)\n",
    "print(my_dict)"
   ]
  },
  {
   "cell_type": "code",
   "execution_count": 88,
   "metadata": {},
   "outputs": [
    {
     "name": "stdout",
     "output_type": "stream",
     "text": [
      "{'a': 2, 'b': 5}\n"
     ]
    }
   ],
   "source": [
    "# 9. Delete the key 'c' from previous dictionary\n",
    "my_list = [('a',2),('b',5),('c',6)] \n",
    "my_dict = dict(my_list)\n",
    "del my_dict['c']\n",
    "print(my_dict)"
   ]
  },
  {
   "cell_type": "code",
   "execution_count": 89,
   "metadata": {},
   "outputs": [
    {
     "name": "stdout",
     "output_type": "stream",
     "text": [
      "{'a': 2, 'b': 5, 'c': 6, 'd': 1}\n"
     ]
    }
   ],
   "source": [
    "# 10. Change the value of key d to 1 from previous dictionary\n",
    "my_list = [('a',2),('b',5),('c',6)] \n",
    "my_dict = dict(my_list)\n",
    "my_dict['d'] = 1\n",
    "print(my_dict)"
   ]
  },
  {
   "cell_type": "code",
   "execution_count": 91,
   "metadata": {},
   "outputs": [
    {
     "name": "stdout",
     "output_type": "stream",
     "text": [
      "{'b': 5, 'c': 6}\n"
     ]
    }
   ],
   "source": [
    "# 11. Create a new dict mydict_b with all values of mydict without key a\n",
    "my_list = [('a',2),('b',5),('c',6)] \n",
    "my_dict = dict(my_list)\n",
    "\n",
    "mydict_b = my_dict.copy()\n",
    "\n",
    "del mydict_b['a']\n",
    "\n",
    "print(mydict_b)"
   ]
  }
 ],
 "metadata": {
  "kernelspec": {
   "display_name": "Python 3",
   "language": "python",
   "name": "python3"
  },
  "language_info": {
   "codemirror_mode": {
    "name": "ipython",
    "version": 3
   },
   "file_extension": ".py",
   "mimetype": "text/x-python",
   "name": "python",
   "nbconvert_exporter": "python",
   "pygments_lexer": "ipython3",
   "version": "3.12.1"
  }
 },
 "nbformat": 4,
 "nbformat_minor": 2
}
